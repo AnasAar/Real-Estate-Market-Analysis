{
 "cells": [
  {
   "cell_type": "code",
   "execution_count": 143,
   "id": "9a789843",
   "metadata": {
    "pycharm": {
     "name": "#%%\n"
    }
   },
   "outputs": [],
   "source": [
    "import pandas as pd\n",
    "import nltk\n",
    "from nltk.tokenize import WordPunctTokenizer\n",
    "import requests\n",
    "import numpy as np"
   ]
  },
  {
   "cell_type": "code",
   "execution_count": 188,
   "id": "5870e5b2",
   "metadata": {
    "pycharm": {
     "name": "#%%\n"
    }
   },
   "outputs": [
    {
     "data": {
      "text/plain": [
       "32"
      ]
     },
     "execution_count": 188,
     "metadata": {},
     "output_type": "execute_result"
    }
   ],
   "source": [
    "df = pd.read_csv(\"airbnb_clean.csv\")\n",
    "df[\"roomTypes\"].nunique()"
   ]
  },
  {
   "cell_type": "code",
   "execution_count": 170,
   "id": "d07e1a0d",
   "metadata": {
    "pycharm": {
     "name": "#%%\n"
    }
   },
   "outputs": [
    {
     "name": "stdout",
     "output_type": "stream",
     "text": [
      "['Room in boutique hotel' 'Private room in loft' 'Entire home'\n",
      " 'Shared room in boutique hotel' 'Private room in rental unit'\n",
      " 'Room in hotel' 'Entire loft' 'Entire serviced apartment'\n",
      " 'Entire rental unit' 'Private room in bed and breakfast'\n",
      " 'Room in aparthotel' 'Entire place' 'Entire townhouse' 'Entire villa'\n",
      " 'Tower' 'Room in bed and breakfast' 'Private room in hostel' 'Boat'\n",
      " 'Private room in home' 'Shared room in hostel' 'Private room in condo'\n",
      " 'Entire guest suite' 'Shared room in hotel' 'Private room in villa'\n",
      " 'Shared room in rental unit' 'Entire guesthouse' 'Shared room in condo'\n",
      " 'Private room in townhouse' 'Private room in castle' 'Entire condo'\n",
      " 'Private room in tiny home' 'Tiny home']\n"
     ]
    }
   ],
   "source": [
    "print(df[\"roomTypes\"].unique())\n",
    "types = []\n",
    "for t in df[\"roomTypes\"].unique():\n",
    "    types.append(t)"
   ]
  },
  {
   "cell_type": "code",
   "execution_count": 124,
   "id": "31a68541",
   "metadata": {
    "pycharm": {
     "name": "#%%\n"
    }
   },
   "outputs": [],
   "source": [
    "dt = df"
   ]
  },
  {
   "cell_type": "code",
   "execution_count": 189,
   "id": "beb96975",
   "metadata": {
    "pycharm": {
     "name": "#%%\n"
    }
   },
   "outputs": [
    {
     "name": "stdout",
     "output_type": "stream",
     "text": [
      "      id                                         adresse  latitude  longitude  \\\n",
      "0      1                                   Paris, France  48.87224    2.38256   \n",
      "1      2       Fontenay-sous-Bois, Île-de-France, France  48.85203    2.49099   \n",
      "2      3   Chennevières-sur-Marne, Île-de-France, France  48.80571    2.53881   \n",
      "3      4                    Paris, Île-de-France, France  48.88962    2.34995   \n",
      "4      5                    Paris, Île-de-France, France  48.82846    2.38006   \n",
      "..   ...                                             ...       ...        ...   \n",
      "703  704                    Paris, Île-de-France, France  48.88152    2.33293   \n",
      "704  705                    Paris, Île-de-France, France  48.88001    2.33293   \n",
      "705  706              Montmorency, Île-de-France, France  48.99481    2.33114   \n",
      "706  707                Montreuil, Île-de-France, France  48.86361    2.44240   \n",
      "707  708  Paris-2E-Arrondissement, Île-de-France, France  48.86800    2.35100   \n",
      "\n",
      "                                            noms  numberOfGuests prices  \\\n",
      "0                               Classique Double               2   $992   \n",
      "1                              Loft Green Design               2   $962   \n",
      "2      Propriété des fossés verts Paris & Disney              15   $668   \n",
      "3                                     Disponible               1   $906   \n",
      "4                      75 Avenue de France House               2   $590   \n",
      "..                                           ...             ...    ...   \n",
      "703                  Hotel Joke*** Superior room               2   $233   \n",
      "704        Hotel Joyce*** - Standard Single room               1   $184   \n",
      "705  Montmorency, adorable maison sans vis à vis               2    $89   \n",
      "706                 Hôtel avec restaurant coréen               2    $90   \n",
      "707                                  Cosy studio               2   $123   \n",
      "\n",
      "                         roomTypes  rating  \n",
      "0           Room in boutique hotel     NaN  \n",
      "1             Private room in loft     NaN  \n",
      "2                      Entire home     5.0  \n",
      "3    Shared room in boutique hotel     4.5  \n",
      "4      Private room in rental unit     NaN  \n",
      "..                             ...     ...  \n",
      "703         Room in boutique hotel     5.0  \n",
      "704         Room in boutique hotel     5.0  \n",
      "705                      Tiny home     4.5  \n",
      "706    Private room in rental unit     4.5  \n",
      "707             Entire rental unit     4.5  \n",
      "\n",
      "[708 rows x 9 columns]\n"
     ]
    }
   ],
   "source": [
    "print(df)"
   ]
  },
  {
   "cell_type": "code",
   "execution_count": 172,
   "id": "9eea2fe4",
   "metadata": {
    "pycharm": {
     "name": "#%%\n"
    }
   },
   "outputs": [
    {
     "name": "stdout",
     "output_type": "stream",
     "text": [
      "['Room', 'Room', 'Entire Home', 'Room', 'Room', 'Entire Home', 'Room', 'Entire Home', 'Room', 'Room', 'Room', 'Room', 'Room', 'Room', 'Entire Home', 'Entire Home', 'Entire Home', 'Room', 'Room', 'Room', 'Room', 'Room', 'Room', 'Entire Home', 'Entire Home', 'Room', 'Room', 'Entire Home', 'Room', 'Entire Home', 'Entire Home', 'Entire Home', 'Room', 'Room', 'Room', 'Room', 'Entire Home', 'Entire Home', 'Room', 'Room', 'Room', 'Room', 'Entire Home', 'Room', 'Room', 'Room', 'Room', 'Room', 'Room', 'Entire Home', 'Room', 'Room', 'Room', 'Room', 'Room', 'Entire Home', 'Entire Home', 'Entire Home', 'Entire Home', 'Entire Home', 'Room', 'Room', 'Room', 'Room', 'Room', 'Room', 'Room', 'Room', 'Room', 'Room', 'Room', 'Room', 'Room', 'Room', 'Room', 'Room', 'Room', 'Entire Home', 'Room', 'Entire Home', 'Room', 'Room', 'Entire Home', 'Room', 'Entire Home', 'Entire Home', 'Entire Home', 'Room', 'Room', 'Room', 'Entire Home', 'Room', 'Entire Home', 'Entire Home', 'Room', 'Entire Home', 'Entire Home', 'Others', 'Room', 'Room', 'Room', 'Room', 'Room', 'Room', 'Entire Home', 'Room', 'Room', 'Room', 'Room', 'Room', 'Room', 'Room', 'Entire Home', 'Room', 'Room', 'Room', 'Room', 'Room', 'Room', 'Room', 'Room', 'Room', 'Room', 'Room', 'Room', 'Room', 'Room', 'Room', 'Room', 'Room', 'Room', 'Room', 'Room', 'Room', 'Room', 'Room', 'Room', 'Room', 'Room', 'Room', 'Room', 'Room', 'Room', 'Room', 'Room', 'Room', 'Room', 'Room', 'Room', 'Room', 'Room', 'Room', 'Room', 'Room', 'Room', 'Room', 'Room', 'Room', 'Room', 'Room', 'Room', 'Room', 'Room', 'Room', 'Room', 'Room', 'Room', 'Room', 'Room', 'Room', 'Room', 'Room', 'Room', 'Room', 'Room', 'Room', 'Room', 'Room', 'Room', 'Room', 'Room', 'Room', 'Room', 'Others', 'Room', 'Room', 'Entire Home', 'Room', 'Entire Home', 'Room', 'Room', 'Entire Home', 'Room', 'Room', 'Room', 'Room', 'Room', 'Room', 'Room', 'Room', 'Room', 'Room', 'Room', 'Room', 'Room', 'Room', 'Entire Home', 'Room', 'Room', 'Room', 'Room', 'Room', 'Entire Home', 'Room', 'Room', 'Entire Home', 'Room', 'Entire Home', 'Room', 'Room', 'Room', 'Room', 'Room', 'Room', 'Room', 'Room', 'Entire Home', 'Room', 'Room', 'Entire Home', 'Room', 'Room', 'Room', 'Room', 'Room', 'Room', 'Room', 'Room', 'Entire Home', 'Room', 'Room', 'Room', 'Room', 'Room', 'Room', 'Room', 'Room', 'Entire Home', 'Room', 'Room', 'Room', 'Room', 'Room', 'Room', 'Room', 'Room', 'Room', 'Room', 'Room', 'Room', 'Room', 'Room', 'Room', 'Entire Home', 'Entire Home', 'Entire Home', 'Entire Home', 'Room', 'Room', 'Room', 'Room', 'Room', 'Room', 'Room', 'Room', 'Entire Home', 'Room', 'Room', 'Entire Home', 'Room', 'Room', 'Room', 'Room', 'Room', 'Room', 'Room', 'Entire Home', 'Room', 'Entire Home', 'Room', 'Room', 'Entire Home', 'Room', 'Room', 'Room', 'Entire Home', 'Entire Home', 'Room', 'Room', 'Entire Home', 'Entire Home', 'Entire Home', 'Entire Home', 'Entire Home', 'Room', 'Room', 'Room', 'Room', 'Room', 'Entire Home', 'Room', 'Entire Home', 'Room', 'Room', 'Room', 'Entire Home', 'Entire Home', 'Room', 'Room', 'Room', 'Entire Home', 'Room', 'Entire Home', 'Room', 'Room', 'Room', 'Entire Home', 'Room', 'Room', 'Entire Home', 'Entire Home', 'Room', 'Room', 'Room', 'Entire Home', 'Room', 'Room', 'Room', 'Room', 'Room', 'Entire Home', 'Room', 'Room', 'Room', 'Room', 'Entire Home', 'Entire Home', 'Entire Home', 'Room', 'Entire Home', 'Entire Home', 'Entire Home', 'Room', 'Room', 'Room', 'Entire Home', 'Room', 'Room', 'Entire Home', 'Room', 'Entire Home', 'Entire Home', 'Entire Home', 'Entire Home', 'Entire Home', 'Entire Home', 'Entire Home', 'Room', 'Room', 'Entire Home', 'Entire Home', 'Room', 'Entire Home', 'Room', 'Room', 'Room', 'Room', 'Room', 'Entire Home', 'Room', 'Entire Home', 'Entire Home', 'Entire Home', 'Entire Home', 'Room', 'Room', 'Room', 'Entire Home', 'Entire Home', 'Room', 'Entire Home', 'Room', 'Entire Home', 'Entire Home', 'Room', 'Entire Home', 'Entire Home', 'Room', 'Room', 'Room', 'Room', 'Room', 'Entire Home', 'Room', 'Room', 'Room', 'Entire Home', 'Room', 'Room', 'Entire Home', 'Room', 'Room', 'Room', 'Room', 'Room', 'Room', 'Room', 'Room', 'Room', 'Room', 'Entire Home', 'Entire Home', 'Room', 'Room', 'Entire Home', 'Room', 'Room', 'Room', 'Room', 'Room', 'Room', 'Room', 'Entire Home', 'Room', 'Entire Home', 'Room', 'Room', 'Room', 'Room', 'Room', 'Room', 'Room', 'Entire Home', 'Room', 'Room', 'Room', 'Entire Home', 'Room', 'Room', 'Room', 'Room', 'Entire Home', 'Room', 'Room', 'Room', 'Entire Home', 'Room', 'Room', 'Room', 'Entire Home', 'Room', 'Room', 'Room', 'Room', 'Room', 'Room', 'Room', 'Room', 'Room', 'Room', 'Room', 'Room', 'Room', 'Room', 'Room', 'Room', 'Room', 'Room', 'Entire Home', 'Room', 'Room', 'Room', 'Room', 'Room', 'Room', 'Room', 'Room', 'Room', 'Room', 'Room', 'Room', 'Room', 'Room', 'Room', 'Room', 'Room', 'Room', 'Room', 'Room', 'Room', 'Entire Home', 'Room', 'Room', 'Room', 'Room', 'Room', 'Room', 'Room', 'Room', 'Room', 'Entire Home', 'Room', 'Room', 'Room', 'Room', 'Room', 'Room', 'Room', 'Room', 'Room', 'Room', 'Room', 'Room', 'Room', 'Room', 'Room', 'Room', 'Room', 'Room', 'Room', 'Room', 'Room', 'Room', 'Room', 'Room', 'Room', 'Room', 'Room', 'Room', 'Room', 'Entire Home', 'Room', 'Room', 'Room', 'Room', 'Room', 'Entire Home', 'Room', 'Room', 'Room', 'Room', 'Room', 'Room', 'Room', 'Room', 'Room', 'Room', 'Room', 'Room', 'Room', 'Entire Home', 'Room', 'Room', 'Room', 'Room', 'Room', 'Room', 'Room', 'Room', 'Entire Home', 'Room', 'Room', 'Room', 'Entire Home', 'Room', 'Room', 'Room', 'Room', 'Room', 'Room', 'Room', 'Entire Home', 'Room', 'Entire Home', 'Room', 'Room', 'Room', 'Room', 'Room', 'Room', 'Room', 'Entire Home', 'Room', 'Room', 'Room', 'Room', 'Room', 'Room', 'Room', 'Room', 'Room', 'Room', 'Room', 'Room', 'Room', 'Entire Home', 'Room', 'Room', 'Room', 'Room', 'Room', 'Room', 'Room', 'Room', 'Room', 'Room', 'Room', 'Room', 'Room', 'Room', 'Room', 'Entire Home', 'Room', 'Room', 'Room', 'Room', 'Room', 'Room', 'Entire Home', 'Room', 'Room', 'Room', 'Room', 'Room', 'Room', 'Room', 'Room', 'Entire Home', 'Room', 'Entire Home', 'Room', 'Room', 'Room', 'Room', 'Entire Home', 'Room', 'Room', 'Room', 'Room', 'Room', 'Room', 'Room', 'Room', 'Room', 'Room', 'Room', 'Room', 'Room', 'Room', 'Room', 'Room', 'Room', 'Room', 'Room', 'Room', 'Room', 'Room', 'Room', 'Room', 'Room', 'Room', 'Room', 'Room', 'Room', 'Room', 'Room', 'Room', 'Room', 'Room', 'Room', 'Room', 'Room', 'Room', 'Room', 'Room', 'Room', 'Room', 'Room', 'Room', 'Room', 'Entire Home', 'Room', 'Room', 'Entire Home', 'Entire Home', 'Room', 'Room', 'Room', 'Room', 'Room', 'Room', 'Room', 'Room', 'Room', 'Room', 'Entire Home', 'Room', 'Entire Home']\n"
     ]
    }
   ],
   "source": [
    "#roomtypes cleaning\n",
    "anc = []\n",
    "room = ['room', 'Room']\n",
    "home = ['Entire','home', 'Home', 'entire']\n",
    "#print(WordPunctTokenizer().tokenize(df[\"roomTypes\"][0]))\n",
    "for t in df[\"roomTypes\"]:\n",
    "    token = WordPunctTokenizer().tokenize(t)\n",
    "    e = 0\n",
    "    for tk in token:\n",
    "        if tk in room:\n",
    "            e = 1\n",
    "        elif tk in home:\n",
    "            e = 2\n",
    "    if e==1: t= 'Room'\n",
    "    elif e==2: t= 'Entire Home'\n",
    "    else: t= 'Others'\n",
    "    anc.append(t)\n",
    "print(anc)"
   ]
  },
  {
   "cell_type": "code",
   "execution_count": 190,
   "id": "44c951a6",
   "metadata": {
    "pycharm": {
     "name": "#%%\n"
    }
   },
   "outputs": [
    {
     "name": "stdout",
     "output_type": "stream",
     "text": [
      "[1, 1, 2, 1, 1, 2, 1, 2, 1, 1, 1, 1, 1, 1, 2, 2, 2, 1, 1, 1, 1, 1, 1, 2, 2, 1, 1, 2, 1, 2, 2, 2, 1, 1, 1, 1, 2, 2, 1, 1, 1, 1, 2, 1, 1, 1, 1, 1, 1, 2, 1, 1, 1, 1, 1, 2, 2, 2, 2, 2, 1, 1, 1, 1, 1, 1, 1, 1, 1, 1, 1, 1, 1, 1, 1, 1, 1, 2, 1, 2, 1, 1, 2, 1, 2, 2, 2, 1, 1, 1, 2, 1, 2, 2, 1, 2, 2, 0, 1, 1, 1, 1, 1, 1, 2, 1, 1, 1, 1, 1, 1, 1, 2, 1, 1, 1, 1, 1, 1, 1, 1, 1, 1, 1, 1, 1, 1, 1, 1, 1, 1, 1, 1, 1, 1, 1, 1, 1, 1, 1, 1, 1, 1, 1, 1, 1, 1, 1, 1, 1, 1, 1, 1, 1, 1, 1, 1, 1, 1, 1, 1, 1, 1, 1, 1, 1, 1, 1, 1, 1, 1, 1, 1, 1, 1, 1, 1, 1, 1, 1, 1, 1, 1, 0, 1, 1, 2, 1, 2, 1, 1, 2, 1, 1, 1, 1, 1, 1, 1, 1, 1, 1, 1, 1, 1, 1, 2, 1, 1, 1, 1, 1, 2, 1, 1, 2, 1, 2, 1, 1, 1, 1, 1, 1, 1, 1, 2, 1, 1, 2, 1, 1, 1, 1, 1, 1, 1, 1, 2, 1, 1, 1, 1, 1, 1, 1, 1, 2, 1, 1, 1, 1, 1, 1, 1, 1, 1, 1, 1, 1, 1, 1, 1, 2, 2, 2, 2, 1, 1, 1, 1, 1, 1, 1, 1, 2, 1, 1, 2, 1, 1, 1, 1, 1, 1, 1, 2, 1, 2, 1, 1, 2, 1, 1, 1, 2, 2, 1, 1, 2, 2, 2, 2, 2, 1, 1, 1, 1, 1, 2, 1, 2, 1, 1, 1, 2, 2, 1, 1, 1, 2, 1, 2, 1, 1, 1, 2, 1, 1, 2, 2, 1, 1, 1, 2, 1, 1, 1, 1, 1, 2, 1, 1, 1, 1, 2, 2, 2, 1, 2, 2, 2, 1, 1, 1, 2, 1, 1, 2, 1, 2, 2, 2, 2, 2, 2, 2, 1, 1, 2, 2, 1, 2, 1, 1, 1, 1, 1, 2, 1, 2, 2, 2, 2, 1, 1, 1, 2, 2, 1, 2, 1, 2, 2, 1, 2, 2, 1, 1, 1, 1, 1, 2, 1, 1, 1, 2, 1, 1, 2, 1, 1, 1, 1, 1, 1, 1, 1, 1, 1, 2, 2, 1, 1, 2, 1, 1, 1, 1, 1, 1, 1, 2, 1, 2, 1, 1, 1, 1, 1, 1, 1, 2, 1, 1, 1, 2, 1, 1, 1, 1, 2, 1, 1, 1, 2, 1, 1, 1, 2, 1, 1, 1, 1, 1, 1, 1, 1, 1, 1, 1, 1, 1, 1, 1, 1, 1, 1, 2, 1, 1, 1, 1, 1, 1, 1, 1, 1, 1, 1, 1, 1, 1, 1, 1, 1, 1, 1, 1, 1, 2, 1, 1, 1, 1, 1, 1, 1, 1, 1, 2, 1, 1, 1, 1, 1, 1, 1, 1, 1, 1, 1, 1, 1, 1, 1, 1, 1, 1, 1, 1, 1, 1, 1, 1, 1, 1, 1, 1, 1, 2, 1, 1, 1, 1, 1, 2, 1, 1, 1, 1, 1, 1, 1, 1, 1, 1, 1, 1, 1, 2, 1, 1, 1, 1, 1, 1, 1, 1, 2, 1, 1, 1, 2, 1, 1, 1, 1, 1, 1, 1, 2, 1, 2, 1, 1, 1, 1, 1, 1, 1, 2, 1, 1, 1, 1, 1, 1, 1, 1, 1, 1, 1, 1, 1, 2, 1, 1, 1, 1, 1, 1, 1, 1, 1, 1, 1, 1, 1, 1, 1, 2, 1, 1, 1, 1, 1, 1, 2, 1, 1, 1, 1, 1, 1, 1, 1, 2, 1, 2, 1, 1, 1, 1, 2, 1, 1, 1, 1, 1, 1, 1, 1, 1, 1, 1, 1, 1, 1, 1, 1, 1, 1, 1, 1, 1, 1, 1, 1, 1, 1, 1, 1, 1, 1, 1, 1, 1, 1, 1, 1, 1, 1, 1, 1, 1, 1, 1, 1, 1, 2, 1, 1, 2, 2, 1, 1, 1, 1, 1, 1, 1, 1, 1, 1, 2, 1, 2]\n"
     ]
    }
   ],
   "source": [
    "#roomtypes cleaning encoding\n",
    "troom = []\n",
    "room = ['room', 'Room']\n",
    "home = ['Entire','home', 'Home', 'entire']\n",
    "#print(WordPunctTokenizer().tokenize(df[\"roomTypes\"][0]))\n",
    "for t in df[\"roomTypes\"]:\n",
    "    token = WordPunctTokenizer().tokenize(t)\n",
    "    e = 0\n",
    "    for tk in token:\n",
    "        if tk in room:\n",
    "            e = 1\n",
    "        elif tk in home:\n",
    "            e = 2\n",
    "    if e==1: t= 1\n",
    "    elif e==2: t= 2\n",
    "    else: t= 0\n",
    "    troom.append(t)\n",
    "print(troom)"
   ]
  },
  {
   "cell_type": "code",
   "execution_count": 191,
   "id": "6e03b02d",
   "metadata": {
    "scrolled": true,
    "pycharm": {
     "name": "#%%\n"
    }
   },
   "outputs": [],
   "source": [
    "#Average values\n",
    "a = df['rating'].mode()\n",
    "df[\"rating\"].fillna(4.5, inplace = True)\n"
   ]
  },
  {
   "cell_type": "code",
   "execution_count": 174,
   "id": "c05536b6",
   "metadata": {
    "pycharm": {
     "name": "#%%\n"
    }
   },
   "outputs": [
    {
     "name": "stdout",
     "output_type": "stream",
     "text": [
      "708\n",
      "['Paris 20e Arrondissement', 'Fontenay-sous-Bois', 'Chennevières-sur-Marne', 'Paris 18e Arrondissement', 'Paris 13e Arrondissement', 'Chennevières-sur-Marne', 'Paris 10e Arrondissement', 'Paris 11e Arrondissement', 'Épinay-sur-Seine', 'Paris 10e Arrondissement', 'Paris 10e Arrondissement', 'Paris 18e Arrondissement', 'Paris 15e Arrondissement', 'Paris 10e Arrondissement', 'Paris 10e Arrondissement', 'Paris 16e Arrondissement', 'Paris 17e Arrondissement', 'Paris 16e Arrondissement', 'Paris 11e Arrondissement', 'Paris 9e Arrondissement', 'Gentilly', 'Paris 16e Arrondissement', 'Paris 5e Arrondissement', 'Paris 19e Arrondissement', 'Paris 16e Arrondissement', 'Paris 15e Arrondissement', 'Paris 5e Arrondissement', 'Suresnes', 'Paris 16e Arrondissement', 'Nogent-sur-Marne', 'Rosny-sous-Bois', 'Clamart', 'Paris 8e Arrondissement', 'Paris 3e Arrondissement', 'Paris 9e Arrondissement', 'Paris 10e Arrondissement', 'Bonneuil-sur-Marne', 'Clamart', 'Paris 16e Arrondissement', 'Paris 8e Arrondissement', 'Paris 7e Arrondissement', 'Paris 3e Arrondissement', 'Cormeilles-en-Parisis', 'Paris 7e Arrondissement', 'Paris 6e Arrondissement', 'Paris 8e Arrondissement', 'Paris 16e Arrondissement', 'Paris 16e Arrondissement', 'Paris 18e Arrondissement', 'Bagneux', 'Paris 8e Arrondissement', 'Paris 7e Arrondissement', 'Paris 8e Arrondissement', 'Paris 8e Arrondissement', 'Paris 4e Arrondissement', 'Malakoff', 'Paris 8e Arrondissement', 'Puteaux', 'Paris 9e Arrondissement', 'Paris 15e Arrondissement', 'Paris 1er Arrondissement', 'Paris 8e Arrondissement', 'Paris 5e Arrondissement', 'Paris 2e Arrondissement', 'Paris 8e Arrondissement', 'Paris 8e Arrondissement', 'Paris 8e Arrondissement', 'Paris 9e Arrondissement', 'Paris 8e Arrondissement', 'Paris 3e Arrondissement', 'Paris 16e Arrondissement', 'Paris 9e Arrondissement', 'Paris 8e Arrondissement', 'Paris 9e Arrondissement', 'Paris 6e Arrondissement', 'Paris 10e Arrondissement', 'Paris 4e Arrondissement', 'Paris 19e Arrondissement', 'Paris 5e Arrondissement', 'Paris 11e Arrondissement', 'Paris 15e Arrondissement', 'Paris 3e Arrondissement', 'Paris 8e Arrondissement', 'Paris 1er Arrondissement', 'Paris 3e Arrondissement', 'Paris 10e Arrondissement', 'Paris 8e Arrondissement', 'Paris 7e Arrondissement', 'Paris 7e Arrondissement', 'Paris 7e Arrondissement', 'Argenteuil', 'Paris 8e Arrondissement', 'Le Plessis-Trévise', 'Yerres', 'Paris 1er Arrondissement', 'Longjumeau', 'Soisy-sur-Seine', 'Puteaux', 'Paris 8e Arrondissement', 'Paris 8e Arrondissement', 'Paris 17e Arrondissement', 'Paris 8e Arrondissement', 'Paris 10e Arrondissement', 'Paris 8e Arrondissement', 'Paris 7e Arrondissement', 'Paris 9e Arrondissement', 'Paris 17e Arrondissement', 'Paris 6e Arrondissement', 'Paris 11e Arrondissement', 'Paris 13e Arrondissement', 'Paris 8e Arrondissement', 'Paris 9e Arrondissement', 'Paris 4e Arrondissement', 'Paris 9e Arrondissement', 'Paris 15e Arrondissement', 'Paris 2e Arrondissement', 'Paris 14e Arrondissement', 'Paris 1er Arrondissement', 'Paris 15e Arrondissement', 'Paris 15e Arrondissement', 'Paris 8e Arrondissement', 'Paris 6e Arrondissement', 'Paris 2e Arrondissement', 'Paris 10e Arrondissement', 'Paris 1er Arrondissement', 'Paris 4e Arrondissement', 'Paris 6e Arrondissement', 'Paris 15e Arrondissement', 'Paris 8e Arrondissement', 'Paris 5e Arrondissement', 'Paris 8e Arrondissement', 'Paris 10e Arrondissement', 'Paris 18e Arrondissement', 'Paris 8e Arrondissement', 'Paris 8e Arrondissement', 'Paris 3e Arrondissement', 'Paris 17e Arrondissement', 'Paris 16e Arrondissement', 'Paris 17e Arrondissement', 'Paris 10e Arrondissement', 'Paris 6e Arrondissement', 'Paris 17e Arrondissement', 'Paris 15e Arrondissement', 'Paris 8e Arrondissement', 'Paris 1er Arrondissement', 'Paris 17e Arrondissement', 'Paris 9e Arrondissement', 'Paris 2e Arrondissement', 'Paris 5e Arrondissement', 'Paris 1er Arrondissement', 'Paris 18e Arrondissement', 'Paris 1er Arrondissement', 'Paris 18e Arrondissement', 'Saint-Cloud', 'Paris 8e Arrondissement', 'Paris 1er Arrondissement', 'Paris 9e Arrondissement', 'Paris 5e Arrondissement', 'Paris 9e Arrondissement', 'Paris 10e Arrondissement', 'Paris 1er Arrondissement', 'Paris 1er Arrondissement', 'Paris 14e Arrondissement', 'Paris 12e Arrondissement', 'Paris 14e Arrondissement', 'Paris 1er Arrondissement', 'Paris 4e Arrondissement', 'Paris 8e Arrondissement', 'Paris 7e Arrondissement', 'Paris 2e Arrondissement', 'Paris 10e Arrondissement', 'Paris 8e Arrondissement', 'Paris 16e Arrondissement', 'Paris 6e Arrondissement', 'Paris 1er Arrondissement', 'Paris 5e Arrondissement', 'Paris 8e Arrondissement', 'Paris 6e Arrondissement', 'Paris 9e Arrondissement', 'Paris 16e Arrondissement', 'Paris 15e Arrondissement', 'Paris 2e Arrondissement', 'Paris 9e Arrondissement', 'Asnières-sur-Seine', 'Paris 9e Arrondissement', 'Paris 8e Arrondissement', 'Paris 18e Arrondissement', 'Paris 9e Arrondissement', 'Maisons-Alfort', 'Paris 16e Arrondissement', 'Paris 11e Arrondissement', 'Paris 19e Arrondissement', 'Paris 6e Arrondissement', 'Paris 2e Arrondissement', 'Paris 9e Arrondissement', 'Paris 17e Arrondissement', 'Paris 14e Arrondissement', 'Paris 9e Arrondissement', 'Paris 15e Arrondissement', 'Paris 9e Arrondissement', 'Paris 5e Arrondissement', 'Paris 11e Arrondissement', 'Paris 8e Arrondissement', 'Paris 9e Arrondissement', 'Paris 16e Arrondissement', 'Paris 1er Arrondissement', \"Ville-d'Avray\", 'Paris 5e Arrondissement', 'Paris 17e Arrondissement', 'Paris 14e Arrondissement', 'Paris 9e Arrondissement', 'Paris 16e Arrondissement', 'Paris 9e Arrondissement', 'Paris 8e Arrondissement', 'Paris 4e Arrondissement', 'Paris 4e Arrondissement', 'Paris 9e Arrondissement', 'Paris 4e Arrondissement', 'Paris 8e Arrondissement', 'Paris 8e Arrondissement', 'Paris 17e Arrondissement', 'Paris 5e Arrondissement', 'Paris 15e Arrondissement', 'Paris 15e Arrondissement', 'Paris 17e Arrondissement', 'Paris 5e Arrondissement', 'Paris 18e Arrondissement', 'Paris 17e Arrondissement', 'Paris 16e Arrondissement', 'Paris 16e Arrondissement', 'Paris 8e Arrondissement', 'Paris 8e Arrondissement', 'Paris 8e Arrondissement', 'Paris 16e Arrondissement', 'Paris 1er Arrondissement', 'Paris 2e Arrondissement', 'Paris 1er Arrondissement', 'Paris 15e Arrondissement', 'Paris 12e Arrondissement', 'Paris 3e Arrondissement', 'Paris 5e Arrondissement', 'Paris 9e Arrondissement', 'Paris 8e Arrondissement', 'Paris 9e Arrondissement', 'Paris 5e Arrondissement', 'Paris 3e Arrondissement', 'Paris 8e Arrondissement', 'Courbevoie', 'Paris 16e Arrondissement', 'Paris 4e Arrondissement', 'Paris 2e Arrondissement', 'Paris 3e Arrondissement', 'Paris 15e Arrondissement', 'Paris 15e Arrondissement', 'Paris 9e Arrondissement', 'Paris 11e Arrondissement', 'Paris 1er Arrondissement', 'Paris 9e Arrondissement', 'Paris 9e Arrondissement', 'Paris 5e Arrondissement', 'Paris 7e Arrondissement', 'Paris 2e Arrondissement', 'Paris 9e Arrondissement', 'Paris 11e Arrondissement', 'Paris 2e Arrondissement', 'Paris 16e Arrondissement', 'Paris 2e Arrondissement', 'Paris 9e Arrondissement', 'Paris 1er Arrondissement', 'Paris 3e Arrondissement', 'Paris 10e Arrondissement', 'Paris 6e Arrondissement', 'Paris 9e Arrondissement', 'Paris 16e Arrondissement', 'Paris 1er Arrondissement', 'Paris 2e Arrondissement', 'Paris 6e Arrondissement', 'Paris 15e Arrondissement', 'Paris 9e Arrondissement', 'Paris 7e Arrondissement', 'Paris 5e Arrondissement', 'Paris 1er Arrondissement', 'Paris 8e Arrondissement', 'Paris 8e Arrondissement', 'Paris 14e Arrondissement', 'Paris 8e Arrondissement', 'Paris 4e Arrondissement', 'Paris 5e Arrondissement', 'Paris 16e Arrondissement', 'Paris 2e Arrondissement', 'Paris 7e Arrondissement', 'Paris 8e Arrondissement', 'Paris 9e Arrondissement', 'Paris 8e Arrondissement', 'Paris 7e Arrondissement', 'Paris 2e Arrondissement', 'Paris 1er Arrondissement', 'Paris 5e Arrondissement', 'Paris 2e Arrondissement', 'Paris 2e Arrondissement', 'Paris 5e Arrondissement', 'Paris 2e Arrondissement', 'Paris 6e Arrondissement', 'Paris 15e Arrondissement', 'Paris 10e Arrondissement', 'Paris 10e Arrondissement', 'Paris 16e Arrondissement', 'Paris 10e Arrondissement', 'Paris 11e Arrondissement', 'Saint-Denis', 'Paris 20e Arrondissement', 'Pantin', 'Choisy-le-Roi', 'Paris 19e Arrondissement', 'Courbevoie', 'Neuilly-Plaisance', 'Puteaux', 'Paris 19e Arrondissement', 'Issy-les-Moulineaux', 'Bois-Colombes', 'Créteil', 'Paris 19e Arrondissement', 'Noisy-le-Grand', 'Paris 19e Arrondissement', 'Asnières-sur-Seine', 'Athis-Mons', 'Jouy-en-Josas', 'Colombes', 'Colombes', 'Montgeron', 'Villebon-sur-Yvette', 'Paris 8e Arrondissement', 'Charenton-le-Pont', 'Rueil-Malmaison', 'Saint-Denis', 'Rungis', 'Gagny', 'Saint-Denis', 'Massy', 'Courbevoie', 'Orly', 'Verrières-le-Buisson', 'Nanterre', 'Tremblay-en-France', 'Bobigny', 'Longjumeau', 'Arcueil', 'Vitry-sur-Seine', 'Colombes', 'Yerres', 'Boulogne-Billancourt', 'Massy', 'Maisons-Laffitte', 'Sarcelles', 'Bobigny', 'Bezons', 'Issy-les-Moulineaux', 'Villejuif', 'Gennevilliers', 'Créteil', 'Paray-Vieille-Poste', 'Levallois-Perret', 'Courbevoie', 'Sèvres', 'Orly', 'Palaiseau', 'Argenteuil', 'Massy', 'Stains', 'Jouy-en-Josas', 'Vitry-sur-Seine', 'Créteil', 'Vitry-sur-Seine', 'Châtenay-Malabry', 'Nanterre', 'Choisy-le-Roi', 'Villejuif', 'Maisons-Alfort', 'Bezons', 'Villejuif', 'Villeneuve-le-Roi', 'Saclay', 'Le Kremlin-Bicêtre', 'Houilles', 'Courbevoie', 'Nanterre', 'Chaville', 'Villecresnes', 'Argenteuil', 'Villejuif', 'Chilly-Mazarin', 'Villejuif', 'Villepinte', 'La Courneuve', 'Villejuif', 'Aulnay-sous-Bois', 'Pantin', 'Fontenay-aux-Roses', 'Issy-les-Moulineaux', 'Gennevilliers', 'Paris 19e Arrondissement', 'Le Pré-Saint-Gervais', 'Enghien-les-Bains', 'Rueil-Malmaison', 'Maisons-Alfort', 'Montreuil', 'Vincennes', 'Paris 16e Arrondissement', 'Gentilly', 'Argenteuil', 'Courbevoie', 'Aubervilliers', 'Paris 19e Arrondissement', 'Paris 15e Arrondissement', 'Asnières-sur-Seine', 'Villejuif', 'Courbevoie', 'Paris 19e Arrondissement', 'Vélizy-Villacoublay', 'Créteil', 'Vitry-sur-Seine', 'Aulnay-sous-Bois', 'Gentilly', 'Neuilly-Plaisance', 'Arcueil', 'Maisons-Alfort', 'Saint-Ouen-sur-Seine', 'Bois-Colombes', 'Paris 19e Arrondissement', 'Antony', 'Tremblay-en-France', 'Paris 19e Arrondissement', 'Aulnay-sous-Bois', 'Clichy', 'Paris 17e Arrondissement', 'Paris 13e Arrondissement', 'Paris 12e Arrondissement', 'Montrouge', 'Paris 12e Arrondissement', 'Paris 10e Arrondissement', 'Paris 15e Arrondissement', 'Paris 15e Arrondissement', 'Saint-Denis', 'Nanterre', 'Paris 10e Arrondissement', 'Vincennes', 'Paris 16e Arrondissement', 'Boulogne-Billancourt', 'Paris 19e Arrondissement', 'Saint-Ouen-sur-Seine', 'Paris 15e Arrondissement', 'Paris 17e Arrondissement', 'Asnières-sur-Seine', 'Paris 15e Arrondissement', 'Paris 18e Arrondissement', 'Paris 2e Arrondissement', 'Paris 9e Arrondissement', 'Paris 8e Arrondissement', 'Paris 18e Arrondissement', 'Paris 10e Arrondissement', 'Paris 2e Arrondissement', 'Paris 15e Arrondissement', 'Paris 15e Arrondissement', 'Paris 10e Arrondissement', 'Pantin', 'Paris 16e Arrondissement', 'Paris 14e Arrondissement', 'Paris 17e Arrondissement', 'Paris 18e Arrondissement', 'Paris 9e Arrondissement', 'Paris 9e Arrondissement', 'Paris 9e Arrondissement', 'Paris 9e Arrondissement', 'Paris 9e Arrondissement', 'Paris 8e Arrondissement', 'Paris 9e Arrondissement', 'Paris 8e Arrondissement', 'Paris 15e Arrondissement', 'Paris 2e Arrondissement', 'Paris 11e Arrondissement', 'Paris 9e Arrondissement', 'Paris 9e Arrondissement', 'Paris 15e Arrondissement', 'Paris 4e Arrondissement', 'Paris 8e Arrondissement', 'Paris 1er Arrondissement', 'Paris 2e Arrondissement', 'Paris 15e Arrondissement', 'Paris 16e Arrondissement', 'Paris 15e Arrondissement', 'Paris 11e Arrondissement', 'Paris 8e Arrondissement', 'Paris 9e Arrondissement', 'Paris 10e Arrondissement', 'Paris 15e Arrondissement', 'Paris 10e Arrondissement', 'Paris 13e Arrondissement', 'Paris 17e Arrondissement', 'Paris 1er Arrondissement', 'Paris 9e Arrondissement', 'Paris 3e Arrondissement', 'Paris 6e Arrondissement', 'Paris 15e Arrondissement', 'Paris 17e Arrondissement', 'Paris 17e Arrondissement', 'Paris 18e Arrondissement', 'Paris 12e Arrondissement', 'Paris 18e Arrondissement', 'Paris 14e Arrondissement', 'Paris 14e Arrondissement', 'Paris 3e Arrondissement', 'Paris 13e Arrondissement', 'Paris 9e Arrondissement', 'Paris 13e Arrondissement', 'Issy-les-Moulineaux', 'Paris 9e Arrondissement', 'Paris 10e Arrondissement', 'Paris 9e Arrondissement', 'Puteaux', 'Paris 10e Arrondissement', 'Paris 19e Arrondissement', 'Paris 11e Arrondissement', 'Paris 11e Arrondissement', 'Paris 15e Arrondissement', 'Paris 8e Arrondissement', 'Paris 15e Arrondissement', 'Neuilly-sur-Seine', 'Paris 18e Arrondissement', 'Paris 12e Arrondissement', 'Paris 14e Arrondissement', 'Ivry-sur-Seine', 'Paris 18e Arrondissement', 'Paris 17e Arrondissement', 'Paris 16e Arrondissement', 'Paris 11e Arrondissement', 'Paris 20e Arrondissement', 'Paris 20e Arrondissement', 'Paris 9e Arrondissement', 'Paris 14e Arrondissement', 'Paris 17e Arrondissement', 'Paris 8e Arrondissement', 'Paris 15e Arrondissement', 'Paris 14e Arrondissement', 'Puteaux', 'Paris 15e Arrondissement', 'Gentilly', 'Saint-Ouen-sur-Seine', 'Paris 9e Arrondissement', 'Paris 18e Arrondissement', 'Paris 14e Arrondissement', 'Saint-Ouen-sur-Seine', 'Paris 20e Arrondissement', 'Paris 18e Arrondissement', 'Paris 16e Arrondissement', 'Paris 4e Arrondissement', 'Paris 17e Arrondissement', 'Paris 13e Arrondissement', 'Issy-les-Moulineaux', 'Paris 16e Arrondissement', 'Paris 17e Arrondissement', 'Paris 18e Arrondissement', 'Paris 13e Arrondissement', 'Paris 10e Arrondissement', 'Paris 9e Arrondissement', 'Paris 14e Arrondissement', 'Paris 12e Arrondissement', 'Paris 13e Arrondissement', 'Paris 9e Arrondissement', 'Paris 17e Arrondissement', 'Paris 17e Arrondissement', 'Paris 9e Arrondissement', 'Paris 9e Arrondissement', 'Clichy', 'Paris 14e Arrondissement', 'Paris 9e Arrondissement', 'Paris 14e Arrondissement', 'Paris 14e Arrondissement', 'Paris 15e Arrondissement', 'Paris 17e Arrondissement', 'Paris 12e Arrondissement', 'Saint-Cloud', 'Paris 3e Arrondissement', 'Puteaux', 'Paris 1er Arrondissement', 'Paris 14e Arrondissement', 'Paris 17e Arrondissement', 'Paris 11e Arrondissement', 'Paris 8e Arrondissement', 'Paris 9e Arrondissement', 'Paris 9e Arrondissement', 'Saint-Cloud', 'Maisons-Alfort', 'Paris 15e Arrondissement', 'Paris 9e Arrondissement', 'Paris 18e Arrondissement', 'Paris 15e Arrondissement', 'Paris 8e Arrondissement', 'Paris 14e Arrondissement', 'Paris 20e Arrondissement', 'Clichy', 'Paris 17e Arrondissement', 'Paris 9e Arrondissement', 'Paris 20e Arrondissement', 'Paris 10e Arrondissement', 'Paris 11e Arrondissement', 'Malakoff', 'Paris 11e Arrondissement', 'Paris 15e Arrondissement', 'Paris 14e Arrondissement', 'Paris 6e Arrondissement', 'Paris 15e Arrondissement', 'Paris 17e Arrondissement', 'Paris 17e Arrondissement', 'Paris 9e Arrondissement', 'Paris 9e Arrondissement', 'Paris 9e Arrondissement', 'Paris 6e Arrondissement', 'Paris 15e Arrondissement', 'Paris 9e Arrondissement', 'Paris 8e Arrondissement', 'Paris 17e Arrondissement', 'Boulogne-Billancourt', 'Paris 8e Arrondissement', 'Paris 17e Arrondissement', 'Paris 2e Arrondissement', 'Paris 9e Arrondissement', 'Paris 20e Arrondissement', 'Paris 16e Arrondissement', 'Paris 15e Arrondissement', 'Paris 12e Arrondissement', 'Paris 8e Arrondissement', 'Paris 9e Arrondissement', 'Paris 18e Arrondissement', 'Paris 14e Arrondissement', 'Paris 9e Arrondissement', 'Paris 18e Arrondissement', 'Paris 10e Arrondissement', 'Paris 10e Arrondissement', 'Paris 15e Arrondissement', 'Paris 13e Arrondissement', 'Paris 10e Arrondissement', 'Paris 9e Arrondissement', 'Paris 9e Arrondissement', 'Paris 15e Arrondissement', 'Paris 9e Arrondissement', 'Paris 9e Arrondissement', 'Paris 6e Arrondissement', 'Paris 12e Arrondissement', 'Paris 10e Arrondissement', 'Paris 2e Arrondissement', 'Paris 5e Arrondissement', 'Paris 9e Arrondissement', 'Paris 6e Arrondissement', 'Paris 3e Arrondissement', 'Paris 9e Arrondissement', 'Paris 9e Arrondissement', 'Paris 9e Arrondissement', 'Paris 9e Arrondissement', 'Paris 15e Arrondissement', 'Paris 15e Arrondissement', 'Paris 8e Arrondissement', 'Paris 2e Arrondissement', 'Paris 2e Arrondissement', 'Paris 17e Arrondissement', 'Paris 9e Arrondissement', 'Paris 5e Arrondissement', 'Paris 15e Arrondissement', 'Paris 9e Arrondissement', 'Paris 9e Arrondissement', 'Paris 15e Arrondissement', 'Paris 8e Arrondissement', 'Paris 8e Arrondissement', 'Paris 9e Arrondissement', 'Paris 8e Arrondissement', 'Paris 9e Arrondissement', 'Paris 8e Arrondissement', 'Paris 9e Arrondissement', 'Paris 3e Arrondissement', 'Paris 17e Arrondissement', 'Paris 12e Arrondissement', 'Paris 7e Arrondissement', 'Paris 16e Arrondissement', 'Paris 9e Arrondissement', 'Paris 6e Arrondissement', 'Paris 1er Arrondissement', 'Paris 7e Arrondissement', 'Paris 9e Arrondissement', 'Paris 8e Arrondissement', 'Nanterre', 'Villejuif', 'Les Lilas', 'Bonneuil-sur-Marne', 'Bures-sur-Yvette', 'Longjumeau', 'Alfortville', 'Paris 8e Arrondissement', 'Paris 5e Arrondissement', 'Paris 8e Arrondissement', 'Paris 9e Arrondissement', 'Paris 15e Arrondissement', 'Paris 10e Arrondissement', 'Paris 9e Arrondissement', 'Boulogne-Billancourt', 'Paris 9e Arrondissement', 'Paris 9e Arrondissement', 'Montmorency', 'Montreuil', 'Paris 2e Arrondissement']\n"
     ]
    }
   ],
   "source": [
    "def geocommune(lat, lon):\n",
    "    params = \"lat={latitude}&lon={longitude}\".format(\n",
    "        latitude = lat,\n",
    "        longitude = lon\n",
    "    )\n",
    "    base_url = 'https://geo.api.gouv.fr/communes?'\n",
    "    response = requests.get(base_url, params=params)\n",
    "    data = response.json()\n",
    "    nom = data[0]['nom']\n",
    "    if nom =='Paris':\n",
    "        par = \"lat={latitude}&lon={longitude}&type={t}\".format(\n",
    "        latitude = lat,\n",
    "        longitude = lon,\n",
    "        t = \"arrondissement-municipal\"\n",
    "        )\n",
    "        re = requests.get(base_url, params=par)\n",
    "        d = re.json()\n",
    "        nom = d[0]['nom']\n",
    "    return nom\n",
    "nom_commune = []\n",
    "for i,j in zip(df[\"latitude\"], df['longitude']):\n",
    "    nom_commune.append(geocommune(i, j))\n",
    "print(len(nom_commune))\n",
    "print(nom_commune)\n",
    "    "
   ]
  },
  {
   "cell_type": "code",
   "execution_count": 175,
   "id": "cfc6354a",
   "metadata": {
    "pycharm": {
     "name": "#%%\n"
    }
   },
   "outputs": [
    {
     "name": "stdout",
     "output_type": "stream",
     "text": [
      "708\n",
      "['75', '94', '94', '75', '75', '94', '75', '75', '93', '75', '75', '75', '75', '75', '75', '75', '75', '75', '75', '75', '94', '75', '75', '75', '75', '75', '75', '92', '75', '94', '93', '92', '75', '75', '75', '75', '94', '92', '75', '75', '75', '75', '95', '75', '75', '75', '75', '75', '75', '92', '75', '75', '75', '75', '75', '92', '75', '92', '75', '75', '75', '75', '75', '75', '75', '75', '75', '75', '75', '75', '75', '75', '75', '75', '75', '75', '75', '75', '75', '75', '75', '75', '75', '75', '75', '75', '75', '75', '75', '75', '95', '75', '94', '91', '75', '91', '91', '92', '75', '75', '75', '75', '75', '75', '75', '75', '75', '75', '75', '75', '75', '75', '75', '75', '75', '75', '75', '75', '75', '75', '75', '75', '75', '75', '75', '75', '75', '75', '75', '75', '75', '75', '75', '75', '75', '75', '75', '75', '75', '75', '75', '75', '75', '75', '75', '75', '75', '75', '75', '75', '75', '75', '75', '92', '75', '75', '75', '75', '75', '75', '75', '75', '75', '75', '75', '75', '75', '75', '75', '75', '75', '75', '75', '75', '75', '75', '75', '75', '75', '75', '75', '75', '75', '92', '75', '75', '75', '75', '94', '75', '75', '75', '75', '75', '75', '75', '75', '75', '75', '75', '75', '75', '75', '75', '75', '75', '92', '75', '75', '75', '75', '75', '75', '75', '75', '75', '75', '75', '75', '75', '75', '75', '75', '75', '75', '75', '75', '75', '75', '75', '75', '75', '75', '75', '75', '75', '75', '75', '75', '75', '75', '75', '75', '75', '75', '75', '75', '92', '75', '75', '75', '75', '75', '75', '75', '75', '75', '75', '75', '75', '75', '75', '75', '75', '75', '75', '75', '75', '75', '75', '75', '75', '75', '75', '75', '75', '75', '75', '75', '75', '75', '75', '75', '75', '75', '75', '75', '75', '75', '75', '75', '75', '75', '75', '75', '75', '75', '75', '75', '75', '75', '75', '75', '75', '75', '75', '75', '75', '75', '93', '75', '93', '94', '75', '92', '93', '92', '75', '92', '92', '94', '75', '93', '75', '92', '91', '78', '92', '92', '91', '91', '75', '94', '92', '93', '94', '93', '93', '91', '92', '94', '91', '92', '93', '93', '91', '94', '94', '92', '91', '92', '91', '78', '95', '93', '95', '92', '94', '92', '94', '91', '92', '92', '92', '94', '91', '95', '91', '93', '78', '94', '94', '94', '92', '92', '94', '94', '94', '95', '94', '94', '91', '94', '78', '92', '92', '92', '94', '95', '94', '91', '94', '93', '93', '94', '93', '93', '92', '92', '92', '75', '93', '95', '92', '94', '93', '94', '75', '94', '95', '92', '93', '75', '75', '92', '94', '92', '75', '78', '94', '94', '93', '94', '93', '94', '94', '93', '92', '75', '92', '93', '75', '93', '92', '75', '75', '75', '92', '75', '75', '75', '75', '93', '92', '75', '94', '75', '92', '75', '93', '75', '75', '92', '75', '75', '75', '75', '75', '75', '75', '75', '75', '75', '75', '93', '75', '75', '75', '75', '75', '75', '75', '75', '75', '75', '75', '75', '75', '75', '75', '75', '75', '75', '75', '75', '75', '75', '75', '75', '75', '75', '75', '75', '75', '75', '75', '75', '75', '75', '75', '75', '75', '75', '75', '75', '75', '75', '75', '75', '75', '75', '75', '75', '75', '92', '75', '75', '75', '92', '75', '75', '75', '75', '75', '75', '75', '92', '75', '75', '75', '94', '75', '75', '75', '75', '75', '75', '75', '75', '75', '75', '75', '75', '92', '75', '94', '93', '75', '75', '75', '93', '75', '75', '75', '75', '75', '75', '92', '75', '75', '75', '75', '75', '75', '75', '75', '75', '75', '75', '75', '75', '75', '92', '75', '75', '75', '75', '75', '75', '75', '92', '75', '92', '75', '75', '75', '75', '75', '75', '75', '92', '94', '75', '75', '75', '75', '75', '75', '75', '92', '75', '75', '75', '75', '75', '92', '75', '75', '75', '75', '75', '75', '75', '75', '75', '75', '75', '75', '75', '75', '75', '92', '75', '75', '75', '75', '75', '75', '75', '75', '75', '75', '75', '75', '75', '75', '75', '75', '75', '75', '75', '75', '75', '75', '75', '75', '75', '75', '75', '75', '75', '75', '75', '75', '75', '75', '75', '75', '75', '75', '75', '75', '75', '75', '75', '75', '75', '75', '75', '75', '75', '75', '75', '75', '75', '75', '75', '75', '75', '75', '75', '75', '75', '75', '75', '75', '75', '75', '92', '94', '93', '94', '91', '91', '94', '75', '75', '75', '75', '75', '75', '75', '92', '75', '75', '95', '93', '75']\n"
     ]
    }
   ],
   "source": [
    "def get_dep(lat, lon):\n",
    "    params = \"lat={latitude}&lon={longitude}\".format(\n",
    "        latitude = lat,\n",
    "        longitude = lon\n",
    "    )\n",
    "    base_url = 'https://geo.api.gouv.fr/communes?'\n",
    "    response = requests.get(base_url, params=params)\n",
    "    data = response.json()\n",
    "    nom = data[0]['codeDepartement']\n",
    "    return nom\n",
    "codedep = []\n",
    "for i,j in zip(df[\"latitude\"], df['longitude']):\n",
    "    codedep.append(get_dep(i, j))\n",
    "print(len(codedep))\n",
    "print(codedep)"
   ]
  },
  {
   "cell_type": "code",
   "execution_count": 177,
   "id": "51e997c9",
   "metadata": {
    "pycharm": {
     "name": "#%%\n"
    }
   },
   "outputs": [
    {
     "name": "stdout",
     "output_type": "stream",
     "text": [
      "708\n",
      "708\n"
     ]
    }
   ],
   "source": [
    "print(len(df['prices']))\n",
    "dt.dropna(subset=[\"prices\"])\n",
    "print(len(df['prices']))\n",
    "    "
   ]
  },
  {
   "cell_type": "code",
   "execution_count": 178,
   "id": "d2eb93e5",
   "metadata": {
    "pycharm": {
     "name": "#%%\n"
    }
   },
   "outputs": [
    {
     "name": "stdout",
     "output_type": "stream",
     "text": [
      "331\n",
      "406\n",
      "546\n",
      "647\n",
      "686\n"
     ]
    }
   ],
   "source": [
    "#prices\n",
    "import numpy as np\n",
    "for i in range(len(df[\"prices\"])):\n",
    "         if df[\"prices\"][i] is np.nan:\n",
    "             print(i)\n",
    "#a = dt['prices'].mean()\n",
    "#print(a)\n",
    "#dt[\"adresse\"].fillna(a, inplace = True)"
   ]
  },
  {
   "cell_type": "code",
   "execution_count": 180,
   "id": "19b907cc",
   "metadata": {
    "pycharm": {
     "name": "#%%\n"
    }
   },
   "outputs": [
    {
     "name": "stdout",
     "output_type": "stream",
     "text": [
      "<class 'str'>\n"
     ]
    }
   ],
   "source": [
    "import numpy as np\n",
    "price = []\n",
    "for t in df[\"prices\"]:\n",
    "    if t is not np.nan:\n",
    "        token = WordPunctTokenizer().tokenize(t)\n",
    "        price.append(int(token[1]))\n",
    "a = 0\n",
    "for i in price :\n",
    "    a = a + i\n",
    "mean = a // len(price)\n",
    "m = str(mean)\n",
    "print(type(m))"
   ]
  },
  {
   "cell_type": "code",
   "execution_count": 181,
   "id": "a2a274c6",
   "metadata": {
    "pycharm": {
     "name": "#%%\n"
    }
   },
   "outputs": [
    {
     "name": "stdout",
     "output_type": "stream",
     "text": [
      "[992, 962, 668, 906, 590, 684, 991, 736, 548, 991, 991, 992, 646, 991, 991, 872, 702, 555, 595, 624, 555, 1141, 654, 1200, 695, 666, 679, 1019, 721, 1358, 1132, 1178, 849, 611, 1433, 1075, 1059, 1390, 1190, 984, 784, 666, 1564, 1379, 535, 1041, 816, 826, 1095, 1309, 814, 783, 1140, 1176, 1170, 1081, 1116, 1461, 1381, 1414, 633, 547, 618, 513, 595, 519, 528, 574, 883, 579, 590, 588, 559, 556, 897, 624, 635, 851, 546, 662, 614, 798, 655, 572, 895, 660, 2410, 1984, 1984, 1984, 1515, 1959, 2490, 2288, 644, 3984, 3489, 355, 286, 274, 281, 262, 320, 427, 329, 502, 396, 445, 267, 284, 463, 383, 362, 342, 323, 269, 322, 349, 327, 428, 397, 287, 336, 386, 419, 262, 353, 273, 393, 466, 316, 271, 374, 452, 398, 266, 268, 416, 268, 317, 336, 396, 338, 406, 338, 491, 366, 380, 382, 371, 441, 478, 508, 329, 425, 433, 369, 279, 491, 297, 378, 458, 350, 359, 283, 435, 329, 356, 389, 320, 274, 415, 410, 447, 369, 276, 443, 336, 505, 298, 391, 290, 376, 348, 465, 395, 386, 423, 294, 482, 395, 264, 336, 270, 346, 273, 285, 356, 389, 290, 359, 316, 330, 360, 432, 307, 312, 371, 380, 344, 386, 400, 267, 425, 286, 293, 409, 327, 355, 297, 436, 421, 327, 337, 349, 404, 335, 436, 360, 470, 400, 446, 378, 316, 370, 344, 396, 340, 334, 297, 493, 323, 268, 410, 290, 491, 436, 340, 336, 405, 262, 286, 366, 304, 340, 266, 426, 380, 302, 349, 387, 447, 469, 441, 462, 359, 307, 302, 356, 334, 329, 491, 286, 277, 327, 307, 467, 330, 416, 335, 345, 344, 386, 292, 272, 313, 467, 336, 418, 377, 435, 369, 262, 341, 302, 497, 484, 327, 377, 502, 397, 317, 382, 509, 991, 991, 744, 1190, 99, 46, 74, 90, 72, 122, 57, 89, 110, 46, 118, 45, 119, 122, 61, 49, 45, 51, 91, 40, 64, 77, 63, '341', 199, 75, 163, 60, 40, 124, 109, 130, 134, 68, 54, 90, 23, 107, 154, 99, 94, 68, 204, 104, 85, 33, 22, 149, 133, 41, 90, 77, 62, 132, 191, 90, 178, 29, 90, 120, 75, 83, 119, 103, 215, 63, 149, 79, 38, 121, 57, 38, 121, 58, 130, 93, 127, 98, 81, 47, 135, 40, 80, 38, 79, 54, 36, 85, 107, 68, 128, 73, 49, 135, 58, 73, 125, 74, '341', 133, 71, 51, 98, 80, 46, 98, 118, 50, 102, 46, 83, 42, 51, 66, 61, 108, 94, 49, 109, 119, 121, 98, 62, 51, 51, 76, 147, 140, 80, 73, 80, 67, 107, 85, 45, 102, 63, 90, 181, 89, 124, 43, 105, 128, 103, 65, 135, 174, 132, 132, 135, 116, 169, 130, 65, 134, 50, 95, 109, 132, 135, 123, 134, 130, 173, 145, 175, 142, 217, 162, 203, 213, 137, 226, 232, 226, 240, 204, 199, 175, 237, 162, 246, 149, 184, 179, 143, 190, 162, 232, 247, 207, 229, 162, 197, 185, 223, 157, 223, 223, 209, 140, 218, 154, 188, 218, 155, 196, 205, 233, 160, 168, 181, 227, 256, 197, 169, 171, 178, 192, 257, 185, 218, 232, 204, 156, 226, 223, 202, 196, 211, 148, 217, 190, 233, 195, 197, 146, '341', 228, 178, 190, 140, 249, 197, 247, 238, 251, 231, 158, 247, 224, 249, 154, 258, 216, 158, 205, 173, 188, 229, 244, 164, 177, 179, 249, 218, 222, 157, 205, 240, 156, 209, 218, 151, 283, 175, 153, 197, 147, 259, 220, 189, 253, 232, 137, 197, 197, 240, 172, 186, 139, 205, 205, 196, 227, 211, 142, 247, 201, 223, 202, 216, 243, 184, 169, 163, 234, 205, 190, 174, 217, 218, 177, 247, 233, 228, 204, 212, 252, 249, 184, 149, 137, 207, 151, 237, 192, 202, 248, 176, 143, 238, 253, 164, 228, 267, 204, 179, '341', 231, 209, 172, 178, 179, 256, 223, 205, 191, 204, 151, 165, 194, 209, 149, 196, 145, 229, 194, 188, 158, 202, 195, 217, 198, 151, 522, 194, 149, 387, 461, 430, 356, 364, 465, 393, 402, 405, '341', 135, 70, 42, 204, 40, 84, 102, 94, 126, 89, 118, 213, 198, 258, 188, 149, 233, 184, 89, 90, 123]\n"
     ]
    }
   ],
   "source": [
    "prices = []\n",
    "for t in df[\"prices\"]:\n",
    "    if t is not np.nan:\n",
    "        token = WordPunctTokenizer().tokenize(t)\n",
    "        prices.append(int(token[1]))\n",
    "    else : prices.append(m)\n",
    "print(prices)"
   ]
  },
  {
   "cell_type": "code",
   "execution_count": 182,
   "id": "8c498ace",
   "metadata": {
    "pycharm": {
     "name": "#%%\n"
    }
   },
   "outputs": [],
   "source": [
    "for i in range(len(df[\"numberOfGuests\"])):\n",
    "         if df[\"numberOfGuests\"][i] is np.nan:\n",
    "             print(i)"
   ]
  },
  {
   "cell_type": "code",
   "execution_count": 183,
   "id": "6cb672a7",
   "metadata": {
    "pycharm": {
     "name": "#%%\n"
    }
   },
   "outputs": [
    {
     "name": "stdout",
     "output_type": "stream",
     "text": [
      "708\n",
      "708\n",
      "708\n",
      "708\n",
      "708\n",
      "708\n",
      "708\n"
     ]
    }
   ],
   "source": [
    "id = dt['id']\n",
    "print(len(id))\n",
    "print(len(anc))\n",
    "print(len(dt[\"rating\"]))\n",
    "print(len(nom_commune))\n",
    "print(len(codedep))\n",
    "print(len(prices))\n",
    "print(len(df[\"numberOfGuests\"]))"
   ]
  },
  {
   "cell_type": "code",
   "execution_count": 187,
   "id": "ead15845",
   "metadata": {
    "pycharm": {
     "name": "#%%\n"
    }
   },
   "outputs": [
    {
     "data": {
      "text/html": [
       "<div>\n",
       "<style scoped>\n",
       "    .dataframe tbody tr th:only-of-type {\n",
       "        vertical-align: middle;\n",
       "    }\n",
       "\n",
       "    .dataframe tbody tr th {\n",
       "        vertical-align: top;\n",
       "    }\n",
       "\n",
       "    .dataframe thead th {\n",
       "        text-align: right;\n",
       "    }\n",
       "</style>\n",
       "<table border=\"1\" class=\"dataframe\">\n",
       "  <thead>\n",
       "    <tr style=\"text-align: right;\">\n",
       "      <th></th>\n",
       "      <th>type</th>\n",
       "      <th>nom_commune</th>\n",
       "      <th>code_departement</th>\n",
       "      <th>prix</th>\n",
       "      <th>numberOfGuests</th>\n",
       "      <th>rating</th>\n",
       "    </tr>\n",
       "  </thead>\n",
       "  <tbody>\n",
       "    <tr>\n",
       "      <th>0</th>\n",
       "      <td>Room</td>\n",
       "      <td>Paris 20e Arrondissement</td>\n",
       "      <td>75</td>\n",
       "      <td>992</td>\n",
       "      <td>2</td>\n",
       "      <td>4.5</td>\n",
       "    </tr>\n",
       "    <tr>\n",
       "      <th>1</th>\n",
       "      <td>Room</td>\n",
       "      <td>Fontenay-sous-Bois</td>\n",
       "      <td>94</td>\n",
       "      <td>962</td>\n",
       "      <td>2</td>\n",
       "      <td>4.5</td>\n",
       "    </tr>\n",
       "    <tr>\n",
       "      <th>2</th>\n",
       "      <td>Entire Home</td>\n",
       "      <td>Chennevières-sur-Marne</td>\n",
       "      <td>94</td>\n",
       "      <td>668</td>\n",
       "      <td>15</td>\n",
       "      <td>5.0</td>\n",
       "    </tr>\n",
       "    <tr>\n",
       "      <th>3</th>\n",
       "      <td>Room</td>\n",
       "      <td>Paris 18e Arrondissement</td>\n",
       "      <td>75</td>\n",
       "      <td>906</td>\n",
       "      <td>1</td>\n",
       "      <td>4.5</td>\n",
       "    </tr>\n",
       "    <tr>\n",
       "      <th>4</th>\n",
       "      <td>Room</td>\n",
       "      <td>Paris 13e Arrondissement</td>\n",
       "      <td>75</td>\n",
       "      <td>590</td>\n",
       "      <td>2</td>\n",
       "      <td>4.5</td>\n",
       "    </tr>\n",
       "    <tr>\n",
       "      <th>...</th>\n",
       "      <td>...</td>\n",
       "      <td>...</td>\n",
       "      <td>...</td>\n",
       "      <td>...</td>\n",
       "      <td>...</td>\n",
       "      <td>...</td>\n",
       "    </tr>\n",
       "    <tr>\n",
       "      <th>703</th>\n",
       "      <td>Room</td>\n",
       "      <td>Paris 9e Arrondissement</td>\n",
       "      <td>75</td>\n",
       "      <td>233</td>\n",
       "      <td>2</td>\n",
       "      <td>5.0</td>\n",
       "    </tr>\n",
       "    <tr>\n",
       "      <th>704</th>\n",
       "      <td>Room</td>\n",
       "      <td>Paris 9e Arrondissement</td>\n",
       "      <td>75</td>\n",
       "      <td>184</td>\n",
       "      <td>1</td>\n",
       "      <td>5.0</td>\n",
       "    </tr>\n",
       "    <tr>\n",
       "      <th>705</th>\n",
       "      <td>Entire Home</td>\n",
       "      <td>Montmorency</td>\n",
       "      <td>95</td>\n",
       "      <td>89</td>\n",
       "      <td>2</td>\n",
       "      <td>4.5</td>\n",
       "    </tr>\n",
       "    <tr>\n",
       "      <th>706</th>\n",
       "      <td>Room</td>\n",
       "      <td>Montreuil</td>\n",
       "      <td>93</td>\n",
       "      <td>90</td>\n",
       "      <td>2</td>\n",
       "      <td>4.5</td>\n",
       "    </tr>\n",
       "    <tr>\n",
       "      <th>707</th>\n",
       "      <td>Entire Home</td>\n",
       "      <td>Paris 2e Arrondissement</td>\n",
       "      <td>75</td>\n",
       "      <td>123</td>\n",
       "      <td>2</td>\n",
       "      <td>4.5</td>\n",
       "    </tr>\n",
       "  </tbody>\n",
       "</table>\n",
       "<p>708 rows × 6 columns</p>\n",
       "</div>"
      ],
      "text/plain": [
       "            type               nom_commune code_departement prix  \\\n",
       "0           Room  Paris 20e Arrondissement               75  992   \n",
       "1           Room        Fontenay-sous-Bois               94  962   \n",
       "2    Entire Home    Chennevières-sur-Marne               94  668   \n",
       "3           Room  Paris 18e Arrondissement               75  906   \n",
       "4           Room  Paris 13e Arrondissement               75  590   \n",
       "..           ...                       ...              ...  ...   \n",
       "703         Room   Paris 9e Arrondissement               75  233   \n",
       "704         Room   Paris 9e Arrondissement               75  184   \n",
       "705  Entire Home               Montmorency               95   89   \n",
       "706         Room                 Montreuil               93   90   \n",
       "707  Entire Home   Paris 2e Arrondissement               75  123   \n",
       "\n",
       "     numberOfGuests  rating  \n",
       "0                 2     4.5  \n",
       "1                 2     4.5  \n",
       "2                15     5.0  \n",
       "3                 1     4.5  \n",
       "4                 2     4.5  \n",
       "..              ...     ...  \n",
       "703               2     5.0  \n",
       "704               1     5.0  \n",
       "705               2     4.5  \n",
       "706               2     4.5  \n",
       "707               2     4.5  \n",
       "\n",
       "[708 rows x 6 columns]"
      ]
     },
     "execution_count": 187,
     "metadata": {},
     "output_type": "execute_result"
    }
   ],
   "source": [
    "d = {'type': anc, 'nom_commune':nom_commune, 'code_departement': codedep, 'prix': prices, 'numberOfGuests': df[\"numberOfGuests\"], 'rating': df[\"rating\"]}\n",
    "#for i in range(len(id)):\n",
    " #   d1 = {'id':id[i], 'type': anc[i], 'nom_commune':nom_commune[i], 'code_departement': codedep[i], 'prix': prices[i], 'numberOfGuests': df[\"numberOfGuests\"][i], 'rating': dt[\"rating\"][i]}\n",
    "rt = pd.DataFrame(data=d)\n",
    "rt.to_csv('airbnb_data_simple')\n",
    "rt"
   ]
  },
  {
   "cell_type": "code",
   "execution_count": 192,
   "id": "2da0bd7b",
   "metadata": {
    "pycharm": {
     "name": "#%%\n"
    }
   },
   "outputs": [
    {
     "data": {
      "text/html": [
       "<div>\n",
       "<style scoped>\n",
       "    .dataframe tbody tr th:only-of-type {\n",
       "        vertical-align: middle;\n",
       "    }\n",
       "\n",
       "    .dataframe tbody tr th {\n",
       "        vertical-align: top;\n",
       "    }\n",
       "\n",
       "    .dataframe thead th {\n",
       "        text-align: right;\n",
       "    }\n",
       "</style>\n",
       "<table border=\"1\" class=\"dataframe\">\n",
       "  <thead>\n",
       "    <tr style=\"text-align: right;\">\n",
       "      <th></th>\n",
       "      <th>type</th>\n",
       "      <th>nom_commune</th>\n",
       "      <th>code_departement</th>\n",
       "      <th>prix</th>\n",
       "      <th>numberOfGuests</th>\n",
       "      <th>rating</th>\n",
       "    </tr>\n",
       "  </thead>\n",
       "  <tbody>\n",
       "    <tr>\n",
       "      <th>0</th>\n",
       "      <td>1</td>\n",
       "      <td>Paris 20e Arrondissement</td>\n",
       "      <td>75</td>\n",
       "      <td>992</td>\n",
       "      <td>2</td>\n",
       "      <td>4.5</td>\n",
       "    </tr>\n",
       "    <tr>\n",
       "      <th>1</th>\n",
       "      <td>1</td>\n",
       "      <td>Fontenay-sous-Bois</td>\n",
       "      <td>94</td>\n",
       "      <td>962</td>\n",
       "      <td>2</td>\n",
       "      <td>4.5</td>\n",
       "    </tr>\n",
       "    <tr>\n",
       "      <th>2</th>\n",
       "      <td>2</td>\n",
       "      <td>Chennevières-sur-Marne</td>\n",
       "      <td>94</td>\n",
       "      <td>668</td>\n",
       "      <td>15</td>\n",
       "      <td>5.0</td>\n",
       "    </tr>\n",
       "    <tr>\n",
       "      <th>3</th>\n",
       "      <td>1</td>\n",
       "      <td>Paris 18e Arrondissement</td>\n",
       "      <td>75</td>\n",
       "      <td>906</td>\n",
       "      <td>1</td>\n",
       "      <td>4.5</td>\n",
       "    </tr>\n",
       "    <tr>\n",
       "      <th>4</th>\n",
       "      <td>1</td>\n",
       "      <td>Paris 13e Arrondissement</td>\n",
       "      <td>75</td>\n",
       "      <td>590</td>\n",
       "      <td>2</td>\n",
       "      <td>4.5</td>\n",
       "    </tr>\n",
       "    <tr>\n",
       "      <th>...</th>\n",
       "      <td>...</td>\n",
       "      <td>...</td>\n",
       "      <td>...</td>\n",
       "      <td>...</td>\n",
       "      <td>...</td>\n",
       "      <td>...</td>\n",
       "    </tr>\n",
       "    <tr>\n",
       "      <th>703</th>\n",
       "      <td>1</td>\n",
       "      <td>Paris 9e Arrondissement</td>\n",
       "      <td>75</td>\n",
       "      <td>233</td>\n",
       "      <td>2</td>\n",
       "      <td>5.0</td>\n",
       "    </tr>\n",
       "    <tr>\n",
       "      <th>704</th>\n",
       "      <td>1</td>\n",
       "      <td>Paris 9e Arrondissement</td>\n",
       "      <td>75</td>\n",
       "      <td>184</td>\n",
       "      <td>1</td>\n",
       "      <td>5.0</td>\n",
       "    </tr>\n",
       "    <tr>\n",
       "      <th>705</th>\n",
       "      <td>2</td>\n",
       "      <td>Montmorency</td>\n",
       "      <td>95</td>\n",
       "      <td>89</td>\n",
       "      <td>2</td>\n",
       "      <td>4.5</td>\n",
       "    </tr>\n",
       "    <tr>\n",
       "      <th>706</th>\n",
       "      <td>1</td>\n",
       "      <td>Montreuil</td>\n",
       "      <td>93</td>\n",
       "      <td>90</td>\n",
       "      <td>2</td>\n",
       "      <td>4.5</td>\n",
       "    </tr>\n",
       "    <tr>\n",
       "      <th>707</th>\n",
       "      <td>2</td>\n",
       "      <td>Paris 2e Arrondissement</td>\n",
       "      <td>75</td>\n",
       "      <td>123</td>\n",
       "      <td>2</td>\n",
       "      <td>4.5</td>\n",
       "    </tr>\n",
       "  </tbody>\n",
       "</table>\n",
       "<p>708 rows × 6 columns</p>\n",
       "</div>"
      ],
      "text/plain": [
       "     type               nom_commune code_departement prix  numberOfGuests  \\\n",
       "0       1  Paris 20e Arrondissement               75  992               2   \n",
       "1       1        Fontenay-sous-Bois               94  962               2   \n",
       "2       2    Chennevières-sur-Marne               94  668              15   \n",
       "3       1  Paris 18e Arrondissement               75  906               1   \n",
       "4       1  Paris 13e Arrondissement               75  590               2   \n",
       "..    ...                       ...              ...  ...             ...   \n",
       "703     1   Paris 9e Arrondissement               75  233               2   \n",
       "704     1   Paris 9e Arrondissement               75  184               1   \n",
       "705     2               Montmorency               95   89               2   \n",
       "706     1                 Montreuil               93   90               2   \n",
       "707     2   Paris 2e Arrondissement               75  123               2   \n",
       "\n",
       "     rating  \n",
       "0       4.5  \n",
       "1       4.5  \n",
       "2       5.0  \n",
       "3       4.5  \n",
       "4       4.5  \n",
       "..      ...  \n",
       "703     5.0  \n",
       "704     5.0  \n",
       "705     4.5  \n",
       "706     4.5  \n",
       "707     4.5  \n",
       "\n",
       "[708 rows x 6 columns]"
      ]
     },
     "execution_count": 192,
     "metadata": {},
     "output_type": "execute_result"
    }
   ],
   "source": [
    "d1 = {'type': troom, 'nom_commune':nom_commune, 'code_departement': codedep, 'prix': prices, 'numberOfGuests': df[\"numberOfGuests\"], 'rating': df[\"rating\"]}\n",
    "#for i in range(len(id)):\n",
    " #   d1 = {'id':id[i], 'type': anc[i], 'nom_commune':nom_commune[i], 'code_departement': codedep[i], 'prix': prices[i], 'numberOfGuests': df[\"numberOfGuests\"][i], 'rating': dt[\"rating\"][i]}\n",
    "rt1 = pd.DataFrame(data=d1)\n",
    "rt1.to_csv('airbnb_data_encoded')\n",
    "rt1"
   ]
  }
 ],
 "metadata": {
  "kernelspec": {
   "display_name": "Python 3 (ipykernel)",
   "language": "python",
   "name": "python3"
  },
  "language_info": {
   "codemirror_mode": {
    "name": "ipython",
    "version": 3
   },
   "file_extension": ".py",
   "mimetype": "text/x-python",
   "name": "python",
   "nbconvert_exporter": "python",
   "pygments_lexer": "ipython3",
   "version": "3.9.7"
  }
 },
 "nbformat": 4,
 "nbformat_minor": 5
}